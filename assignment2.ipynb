{
 "cells": [
  {
   "cell_type": "markdown",
   "id": "c6f34a52",
   "metadata": {},
   "source": [
    "## Task Scheduler with Priorities \n",
    "\n",
    "- Console-based scheduler: \n",
    "\n",
    "-   Add tasks with priority and deadlines \n",
    "\n",
    "-   View pending tasks sorted by priority \n",
    "\n",
    "-   Mark tasks as done \n",
    "\n",
    "-   Archive completed tasks \n",
    "\n",
    "Concepts: Heap queue (heapq), file persistence, classes "
   ]
  },
  {
   "cell_type": "code",
   "execution_count": null,
   "id": "d083c234",
   "metadata": {},
   "outputs": [],
   "source": [
    "import heapq\n",
    "\n",
    "class Task:\n",
    "    def __init__(self, description, priority):\n",
    "        self.description = description\n",
    "        self.priority = priority\n",
    "\n",
    "    def __lt__(self, other):\n",
    "        return self.priority < other.priority\n",
    "\n",
    "class TodoList:\n",
    "    def __init__(self):\n",
    "        self.tasks = [] \n",
    "    \n",
    "    def add_tasks(self, description, priority):\n",
    "        task = Task(description, priority)\n",
    "        heapq.heappush(self.tasks, task)\n",
    "        print(f'Task \"{description}\" added with priority level {priority}')\n",
    "    \n",
    "    def complete_task(self, task):\n",
    "        if not self.tasks:\n",
    "            print(\"No tasks to mark as complete\")\n",
    "            return\n",
    "        completed_task = heapq.heappop(self.tasks)\n",
    "        print(f'Completed task: \"{completed_task.description}\"')\n",
    "    \n",
    "\n",
    "        \n",
    "    \n",
    "        \n",
    "def menu():\n",
    "    print(\"\\nTasks Scheduler Menu\")\n",
    "    print(\"Use the numbers on the keyboard to navigate through the memory\")\n",
    "    print(\"1. Add Task to queue\")\n",
    "    print(\"2. View Tasks\")\n",
    "    print(\"3. Mark task as completed\")\n",
    "    print(\"4. Delete task\")\n",
    "    print(\"5. Exit application\")\n"
   ]
  }
 ],
 "metadata": {
  "language_info": {
   "name": "python"
  }
 },
 "nbformat": 4,
 "nbformat_minor": 5
}
